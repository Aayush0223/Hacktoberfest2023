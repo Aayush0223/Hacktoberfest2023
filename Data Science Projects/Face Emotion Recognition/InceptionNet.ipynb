{
 "cells": [
  {
   "cell_type": "code",
   "execution_count": 35,
   "id": "c3137a54",
   "metadata": {},
   "outputs": [],
   "source": [
    "import numpy as np\n",
    "import pandas as pd\n",
    "import matplotlib.pyplot as plt\n",
    "from time import time\n",
    "from time import sleep\n",
    "import re\n",
    "import os\n",
    "import argparse\n",
    "from collections import OrderedDict\n",
    "import matplotlib.animation as animation\n",
    "\n",
    "### Image processing ###\n",
    "from scipy.ndimage import zoom\n",
    "from scipy.spatial import distance\n",
    "import imutils\n",
    "from scipy import ndimage\n",
    "import cv2\n",
    "import dlib\n",
    "from __future__ import division\n",
    "from imutils import face_utils\n",
    "\n",
    "### CNN models ###\n",
    "import keras\n",
    "from tensorflow.keras.utils import array_to_img, img_to_array, load_img\n",
    "from keras.preprocessing.image import ImageDataGenerator\n",
    "from keras.callbacks import TensorBoard\n",
    "from keras.models import Sequential\n",
    "from keras.layers.core import Dense, Dropout, Activation, Flatten\n",
    "from keras.layers.convolutional import Conv2D, MaxPooling2D, SeparableConv2D\n",
    "from keras.utils import np_utils\n",
    "from keras.regularizers import l2#, activity_l2\n",
    "from keras.optimizers import SGD, RMSprop\n",
    "from keras.utils import to_categorical\n",
    "from tensorflow.keras.layers import BatchNormalization\n",
    "#from keras.layers.normalization import BatchNormalization\n",
    "from keras import models\n",
    "from keras.utils.vis_utils import plot_model\n",
    "from keras.layers import Input, GlobalAveragePooling2D\n",
    "from keras.models import Model\n",
    "from tensorflow.keras import layers\n",
    "\n",
    "### Build SVM models ###\n",
    "from sklearn.preprocessing import OneHotEncoder\n",
    "from sklearn.model_selection import train_test_split\n",
    "from sklearn.metrics import accuracy_score\n",
    "from sklearn import svm\n",
    "\n",
    "### Same trained models ###\n",
    "import h5py\n",
    "from keras.models import model_from_json\n",
    "import pickle"
   ]
  },
  {
   "cell_type": "code",
   "execution_count": 36,
   "id": "bbe6f0d0",
   "metadata": {},
   "outputs": [],
   "source": [
    "X_train = np.load(\"X_train.npy\")\n",
    "X_test = np.load(\"X_test.npy\")\n",
    "y_train = np.load(\"y_train.npy\")\n",
    "y_test = np.load(\"y_test.npy\")"
   ]
  },
  {
   "cell_type": "code",
   "execution_count": 37,
   "id": "663fba26",
   "metadata": {},
   "outputs": [],
   "source": [
    "shape_x = 48\n",
    "shape_y = 48\n",
    "nRows,nCols,nDims = X_train.shape[1:]\n",
    "input_shape = (nRows, nCols, nDims)\n",
    "classes = np.unique(y_train)\n",
    "nClasses = len(classes)"
   ]
  },
  {
   "cell_type": "markdown",
   "id": "fb0903c8",
   "metadata": {},
   "source": [
    "# Inception Model"
   ]
  },
  {
   "cell_type": "code",
   "execution_count": 11,
   "id": "ff898c2e",
   "metadata": {},
   "outputs": [],
   "source": [
    "input_img = Input(shape=(shape_x, shape_y, 1))\n",
    "\n",
    "### 1st layer\n",
    "layer_1 = Conv2D(10, (1,1), padding='same', activation='relu')(input_img)\n",
    "layer_1 = Conv2D(10, (3,3), padding='same', activation='relu')(layer_1)\n",
    "\n",
    "layer_2 = Conv2D(10, (1,1), padding='same', activation='relu')(input_img)\n",
    "layer_2 = Conv2D(10, (5,5), padding='same', activation='relu')(layer_2)\n",
    "\n",
    "layer_3 = MaxPooling2D((3,3), strides=(1,1), padding='same')(input_img)\n",
    "layer_3 = Conv2D(10, (1,1), padding='same', activation='relu')(layer_3)\n",
    "\n",
    "mid_1 = keras.layers.concatenate([layer_1, layer_2, layer_3], axis = 3)\n",
    "\n",
    "flat_1 = Flatten()(mid_1)\n",
    "\n",
    "dense_1 = Dense(1200, activation='relu')(flat_1)\n",
    "dense_2 = Dense(600, activation='relu')(dense_1)\n",
    "dense_3 = Dense(150, activation='relu')(dense_2)\n",
    "output = Dense(7, activation='softmax')(dense_3)"
   ]
  },
  {
   "cell_type": "code",
   "execution_count": 14,
   "id": "f8be6325",
   "metadata": {},
   "outputs": [
    {
     "name": "stdout",
     "output_type": "stream",
     "text": [
      "Requirement already satisfied: pydot in c:\\users\\dell\\anaconda3\\lib\\site-packages (1.4.2)\n",
      "Requirement already satisfied: pyparsing>=2.1.4 in c:\\users\\dell\\anaconda3\\lib\\site-packages (from pydot) (3.0.4)\n",
      "Note: you may need to restart the kernel to use updated packages.\n"
     ]
    }
   ],
   "source": [
    "pip install pydot"
   ]
  },
  {
   "cell_type": "code",
   "execution_count": 12,
   "id": "5295e820",
   "metadata": {},
   "outputs": [],
   "source": [
    "model = Model([input_img], output)"
   ]
  },
  {
   "cell_type": "code",
   "execution_count": 15,
   "id": "c28c9f48",
   "metadata": {},
   "outputs": [
    {
     "name": "stdout",
     "output_type": "stream",
     "text": [
      "You must install pydot (`pip install pydot`) and install graphviz (see instructions at https://graphviz.gitlab.io/download/) for plot_model to work.\n"
     ]
    }
   ],
   "source": [
    "plot_model(model, to_file='model_images/model_plot_37.png', show_shapes=True, show_layer_names=True)"
   ]
  },
  {
   "cell_type": "code",
   "execution_count": 26,
   "id": "da7d957c",
   "metadata": {},
   "outputs": [
    {
     "data": {
      "text/plain": [
       "(28709, 48, 48, 1)"
      ]
     },
     "execution_count": 26,
     "metadata": {},
     "output_type": "execute_result"
    }
   ],
   "source": [
    "X_train.shape"
   ]
  },
  {
   "cell_type": "code",
   "execution_count": 27,
   "id": "8c793467",
   "metadata": {},
   "outputs": [
    {
     "data": {
      "text/plain": [
       "(3589, 48, 48, 1)"
      ]
     },
     "execution_count": 27,
     "metadata": {},
     "output_type": "execute_result"
    }
   ],
   "source": [
    "X_test.shape"
   ]
  },
  {
   "cell_type": "code",
   "execution_count": 28,
   "id": "4a540ad5",
   "metadata": {},
   "outputs": [
    {
     "data": {
      "text/plain": [
       "(28709, 1)"
      ]
     },
     "execution_count": 28,
     "metadata": {},
     "output_type": "execute_result"
    }
   ],
   "source": [
    "y_train.shape"
   ]
  },
  {
   "cell_type": "code",
   "execution_count": 29,
   "id": "bf932a0a",
   "metadata": {},
   "outputs": [
    {
     "data": {
      "text/plain": [
       "(3589, 1)"
      ]
     },
     "execution_count": 29,
     "metadata": {},
     "output_type": "execute_result"
    }
   ],
   "source": [
    "y_test.shape"
   ]
  },
  {
   "cell_type": "code",
   "execution_count": 38,
   "id": "a0e903e7",
   "metadata": {},
   "outputs": [],
   "source": [
    "input_img = Input(shape=(shape_x, shape_y, 1))\n",
    "\n",
    "layer1 = Conv2D(10, (3, 3), padding='same', activation='relu')(input_img)\n",
    "layer1_2 = Conv2D(20, (3, 3), padding='same', activation='relu')(layer1)\n",
    "layer2 = MaxPooling2D(pool_size=(3, 3))(layer1_2)\n",
    "bn1 = BatchNormalization()(layer2)\n",
    "\n",
    "layer3 = Conv2D(30, (3, 3), padding='same', activation='relu')(bn1)\n",
    "layer3_2 = Conv2D(40, (3, 3), padding='same', activation='relu')(layer3)\n",
    "layer4 = MaxPooling2D(pool_size=(3, 3))(layer3_2)\n",
    "bn2 = BatchNormalization()(layer4)\n",
    "\n",
    "layer5 = Conv2D(50, (3, 3), padding='same', activation='relu')(bn2)\n",
    "layer5_2 = Conv2D(60, (3, 3), padding='same', activation='relu')(layer5)\n",
    "layer6 = MaxPooling2D(pool_size=(3, 3))(layer5_2)\n",
    "bn3 = BatchNormalization()(layer6)\n",
    "\n",
    "Conv11 = Conv2D(1, (1, 1), padding='same', activation='relu')(bn3)\n",
    "Conv33 = Conv2D(4, (3, 3), padding='same', activation='relu')(bn3)\n",
    "Conv332 = Conv2D(1, (3, 3), padding='same', activation='relu')(Conv33)\n",
    "Conv55 = Conv2D(4, (5, 5), padding='same', activation='relu')(bn3)\n",
    "Conv552 = Conv2D(1, (3, 3), padding='same', activation='relu')(Conv55)\n",
    "#Pool33 = MaxPooling2D(pool_size=(3, 3))(bn3)\n",
    "#ConvPool1 = Conv2D(4, (1, 1), padding='same', activation='relu')(Pool33)\n",
    "\n",
    "intermediate1 = keras.layers.concatenate([Conv11, Conv332, Conv552], axis=1)\n",
    "\n",
    "Conv2_11 = Conv2D(1, (1, 1), padding='same', activation='relu')(intermediate1)\n",
    "Conv2_33 = Conv2D(4, (3, 3), padding='same', activation='relu')(intermediate1)\n",
    "Conv2_332 = Conv2D(1, (3, 3), padding='same', activation='relu')(Conv2_33)\n",
    "Conv2_55 = Conv2D(4, (5, 5), padding='same', activation='relu')(intermediate1)\n",
    "Conv2_552 = Conv2D(1, (3, 3), padding='same', activation='relu')(Conv2_55)\n",
    "#Pool2_33 = MaxPooling2D(pool_size=(3, 3))(intermediate1)\n",
    "#ConvPool2 = Conv2D(4, (1, 1), padding='same', activation='relu')(Pool2_33)\n",
    "\n",
    "intermediate2 = keras.layers.concatenate([Conv2_11, Conv2_332, Conv2_552], axis=1)\n",
    "\n",
    "Conv3_11 = Conv2D(1, (1, 1), padding='same', activation='relu')(intermediate2)\n",
    "Conv3_33 = Conv2D(4, (3, 3), padding='same', activation='relu')(intermediate2)\n",
    "Conv3_332 = Conv2D(1, (3, 3), padding='same', activation='relu')(Conv3_33)\n",
    "Conv3_55 = Conv2D(4, (5, 5), padding='same', activation='relu')(intermediate2)\n",
    "Conv3_552 = Conv2D(1, (3, 3), padding='same', activation='relu')(Conv3_55)\n",
    "#Pool3_33 = MaxPooling2D(pool_size=(3, 3))(intermediate2)\n",
    "#ConvPool3 = Conv2D(4, (1, 1), padding='same', activation='relu')(Pool3_33)\n",
    "\n",
    "intermediate3 = keras.layers.concatenate([Conv3_11, Conv3_332, Conv3_552], axis=1)\n",
    "\n",
    "#Pool4 = MaxPooling2D(pool_size=(3, 3))(intermediate3)\n",
    "\n",
    "Flat = Flatten()(intermediate3)\n",
    "\n",
    "Dense1 = Dense(25, activation='relu')(Flat)\n",
    "Dense2 = Dense(15, activation='relu')(Dense1)\n",
    "Dense3 = Dense(7, activation='softmax')(Dense2)"
   ]
  },
  {
   "cell_type": "code",
   "execution_count": 39,
   "id": "4f088a10",
   "metadata": {},
   "outputs": [],
   "source": [
    "model = Model([input_img], Dense3)"
   ]
  },
  {
   "cell_type": "code",
   "execution_count": 21,
   "id": "9dfd69ee",
   "metadata": {},
   "outputs": [
    {
     "name": "stdout",
     "output_type": "stream",
     "text": [
      "You must install pydot (`pip install pydot`) and install graphviz (see instructions at https://graphviz.gitlab.io/download/) for plot_model to work.\n"
     ]
    }
   ],
   "source": [
    "plot_model(model, to_file='model_plot_3.png', show_shapes=True, show_layer_names=True)"
   ]
  },
  {
   "cell_type": "code",
   "execution_count": 40,
   "id": "a7849a62",
   "metadata": {},
   "outputs": [],
   "source": [
    "model.compile(optimizer='adam', loss='categorical_crossentropy', metrics=['accuracy'])\n",
    " \n",
    "batch_size = 128\n",
    "epochs = 150"
   ]
  },
  {
   "cell_type": "code",
   "execution_count": 41,
   "id": "2ca3bb3c",
   "metadata": {},
   "outputs": [
    {
     "name": "stderr",
     "output_type": "stream",
     "text": [
      "C:\\Users\\DELL\\AppData\\Local\\Temp\\ipykernel_12864\\3927847530.py:9: UserWarning: `Model.fit_generator` is deprecated and will be removed in a future version. Please use `Model.fit`, which supports generators.\n",
      "  history = model.fit_generator(\n"
     ]
    },
    {
     "name": "stdout",
     "output_type": "stream",
     "text": [
      "Epoch 1/150\n",
      "225/225 [==============================] - 115s 438ms/step - loss: 1.8150 - accuracy: 0.2515 - val_loss: 1.9299 - val_accuracy: 0.1842\n",
      "Epoch 2/150\n",
      "225/225 [==============================] - 95s 421ms/step - loss: 1.6507 - accuracy: 0.3277 - val_loss: 2.1138 - val_accuracy: 0.1772\n",
      "Epoch 3/150\n",
      "225/225 [==============================] - 94s 418ms/step - loss: 1.4865 - accuracy: 0.3957 - val_loss: 1.4022 - val_accuracy: 0.4355\n",
      "Epoch 4/150\n",
      "225/225 [==============================] - 94s 417ms/step - loss: 1.4092 - accuracy: 0.4326 - val_loss: 1.3746 - val_accuracy: 0.4489\n",
      "Epoch 5/150\n",
      "225/225 [==============================] - 94s 418ms/step - loss: 1.3584 - accuracy: 0.4580 - val_loss: 1.3375 - val_accuracy: 0.4776\n",
      "Epoch 6/150\n",
      "225/225 [==============================] - 96s 428ms/step - loss: 1.3054 - accuracy: 0.4903 - val_loss: 1.4084 - val_accuracy: 0.4639\n",
      "Epoch 7/150\n",
      "225/225 [==============================] - 100s 444ms/step - loss: 1.2720 - accuracy: 0.5066 - val_loss: 1.2672 - val_accuracy: 0.4982\n",
      "Epoch 8/150\n",
      "225/225 [==============================] - 94s 417ms/step - loss: 1.2437 - accuracy: 0.5163 - val_loss: 1.2215 - val_accuracy: 0.5322\n",
      "Epoch 9/150\n",
      "225/225 [==============================] - 93s 415ms/step - loss: 1.2226 - accuracy: 0.5270 - val_loss: 1.2397 - val_accuracy: 0.5155\n",
      "Epoch 10/150\n",
      "225/225 [==============================] - 95s 422ms/step - loss: 1.2094 - accuracy: 0.5369 - val_loss: 1.3014 - val_accuracy: 0.5210\n",
      "Epoch 11/150\n",
      "225/225 [==============================] - 93s 413ms/step - loss: 1.1924 - accuracy: 0.5425 - val_loss: 1.2171 - val_accuracy: 0.5372\n",
      "Epoch 12/150\n",
      "225/225 [==============================] - 93s 414ms/step - loss: 1.1766 - accuracy: 0.5484 - val_loss: 1.1948 - val_accuracy: 0.5394\n",
      "Epoch 13/150\n",
      "225/225 [==============================] - 94s 416ms/step - loss: 1.1687 - accuracy: 0.5515 - val_loss: 1.1678 - val_accuracy: 0.5525\n",
      "Epoch 14/150\n",
      "225/225 [==============================] - 94s 417ms/step - loss: 1.1582 - accuracy: 0.5568 - val_loss: 1.1537 - val_accuracy: 0.5651\n",
      "Epoch 15/150\n",
      "225/225 [==============================] - 106s 472ms/step - loss: 1.1459 - accuracy: 0.5620 - val_loss: 1.1575 - val_accuracy: 0.5522\n",
      "Epoch 16/150\n",
      "225/225 [==============================] - 94s 416ms/step - loss: 1.1421 - accuracy: 0.5600 - val_loss: 1.1506 - val_accuracy: 0.5670\n",
      "Epoch 17/150\n",
      "225/225 [==============================] - 94s 419ms/step - loss: 1.1345 - accuracy: 0.5652 - val_loss: 1.1676 - val_accuracy: 0.5612\n",
      "Epoch 18/150\n",
      "225/225 [==============================] - 94s 418ms/step - loss: 1.1281 - accuracy: 0.5681 - val_loss: 1.1386 - val_accuracy: 0.5614\n",
      "Epoch 19/150\n",
      "225/225 [==============================] - 94s 417ms/step - loss: 1.1201 - accuracy: 0.5746 - val_loss: 1.1845 - val_accuracy: 0.5561\n",
      "Epoch 20/150\n",
      "225/225 [==============================] - 94s 416ms/step - loss: 1.1115 - accuracy: 0.5754 - val_loss: 1.1440 - val_accuracy: 0.5698\n",
      "Epoch 21/150\n",
      "225/225 [==============================] - 98s 435ms/step - loss: 1.1117 - accuracy: 0.5740 - val_loss: 1.1326 - val_accuracy: 0.5712\n",
      "Epoch 22/150\n",
      "225/225 [==============================] - 99s 441ms/step - loss: 1.0966 - accuracy: 0.5819 - val_loss: 1.1679 - val_accuracy: 0.5548\n",
      "Epoch 23/150\n",
      "225/225 [==============================] - 95s 421ms/step - loss: 1.1003 - accuracy: 0.5791 - val_loss: 1.1495 - val_accuracy: 0.5637\n",
      "Epoch 24/150\n",
      "225/225 [==============================] - 102s 454ms/step - loss: 1.0883 - accuracy: 0.5882 - val_loss: 1.1517 - val_accuracy: 0.5656\n",
      "Epoch 25/150\n",
      "225/225 [==============================] - 101s 449ms/step - loss: 1.0857 - accuracy: 0.5866 - val_loss: 1.1402 - val_accuracy: 0.5606\n",
      "Epoch 26/150\n",
      "225/225 [==============================] - 94s 416ms/step - loss: 1.0826 - accuracy: 0.5877 - val_loss: 1.1249 - val_accuracy: 0.5740\n",
      "Epoch 27/150\n",
      "225/225 [==============================] - 95s 421ms/step - loss: 1.0809 - accuracy: 0.5878 - val_loss: 1.1278 - val_accuracy: 0.5731\n",
      "Epoch 28/150\n",
      "225/225 [==============================] - 95s 423ms/step - loss: 1.0788 - accuracy: 0.5899 - val_loss: 1.1327 - val_accuracy: 0.5681\n",
      "Epoch 29/150\n",
      "225/225 [==============================] - 95s 423ms/step - loss: 1.0805 - accuracy: 0.5946 - val_loss: 1.1360 - val_accuracy: 0.5712\n",
      "Epoch 30/150\n",
      "225/225 [==============================] - 96s 425ms/step - loss: 1.0650 - accuracy: 0.5962 - val_loss: 1.1050 - val_accuracy: 0.5837\n",
      "Epoch 31/150\n",
      "225/225 [==============================] - 94s 415ms/step - loss: 1.0652 - accuracy: 0.5951 - val_loss: 1.1480 - val_accuracy: 0.5667\n",
      "Epoch 32/150\n",
      "225/225 [==============================] - 100s 442ms/step - loss: 1.0625 - accuracy: 0.5990 - val_loss: 1.1126 - val_accuracy: 0.5795\n",
      "Epoch 33/150\n",
      "225/225 [==============================] - 93s 413ms/step - loss: 1.0637 - accuracy: 0.5983 - val_loss: 1.1289 - val_accuracy: 0.5648\n",
      "Epoch 34/150\n",
      "225/225 [==============================] - 93s 412ms/step - loss: 1.0544 - accuracy: 0.6018 - val_loss: 1.1784 - val_accuracy: 0.5573\n",
      "Epoch 35/150\n",
      "225/225 [==============================] - 94s 418ms/step - loss: 1.0573 - accuracy: 0.6013 - val_loss: 1.1062 - val_accuracy: 0.5804\n",
      "Epoch 36/150\n",
      "225/225 [==============================] - 94s 416ms/step - loss: 1.0475 - accuracy: 0.6038 - val_loss: 1.1397 - val_accuracy: 0.5759\n",
      "Epoch 37/150\n",
      "225/225 [==============================] - 94s 416ms/step - loss: 1.0496 - accuracy: 0.6030 - val_loss: 1.1124 - val_accuracy: 0.5773\n",
      "Epoch 38/150\n",
      "225/225 [==============================] - 93s 414ms/step - loss: 1.0456 - accuracy: 0.6016 - val_loss: 1.1359 - val_accuracy: 0.5729\n",
      "Epoch 39/150\n",
      "225/225 [==============================] - 93s 415ms/step - loss: 1.0445 - accuracy: 0.6054 - val_loss: 1.1231 - val_accuracy: 0.5776\n",
      "Epoch 40/150\n",
      "225/225 [==============================] - 93s 413ms/step - loss: 1.0381 - accuracy: 0.6054 - val_loss: 1.1251 - val_accuracy: 0.5751\n",
      "Epoch 41/150\n",
      "225/225 [==============================] - 94s 418ms/step - loss: 1.0445 - accuracy: 0.6053 - val_loss: 1.1099 - val_accuracy: 0.5896\n",
      "Epoch 42/150\n",
      "225/225 [==============================] - 93s 414ms/step - loss: 1.0324 - accuracy: 0.6093 - val_loss: 1.0929 - val_accuracy: 0.5887\n",
      "Epoch 43/150\n",
      "225/225 [==============================] - 94s 415ms/step - loss: 1.0309 - accuracy: 0.6092 - val_loss: 1.0853 - val_accuracy: 0.5982\n",
      "Epoch 44/150\n",
      "225/225 [==============================] - 93s 414ms/step - loss: 1.0349 - accuracy: 0.6115 - val_loss: 1.1275 - val_accuracy: 0.5665\n",
      "Epoch 45/150\n",
      "225/225 [==============================] - 93s 412ms/step - loss: 1.0252 - accuracy: 0.6140 - val_loss: 1.1182 - val_accuracy: 0.5709\n",
      "Epoch 46/150\n",
      "225/225 [==============================] - 93s 413ms/step - loss: 1.0202 - accuracy: 0.6131 - val_loss: 1.0851 - val_accuracy: 0.5876\n",
      "Epoch 47/150\n",
      "225/225 [==============================] - 95s 424ms/step - loss: 1.0262 - accuracy: 0.6132 - val_loss: 1.0881 - val_accuracy: 0.5818\n",
      "Epoch 48/150\n",
      "225/225 [==============================] - 97s 430ms/step - loss: 1.0200 - accuracy: 0.6172 - val_loss: 1.0840 - val_accuracy: 0.5971\n",
      "Epoch 49/150\n",
      "225/225 [==============================] - 94s 416ms/step - loss: 1.0203 - accuracy: 0.6162 - val_loss: 1.0892 - val_accuracy: 0.5946\n",
      "Epoch 50/150\n",
      "225/225 [==============================] - 95s 422ms/step - loss: 1.0185 - accuracy: 0.6114 - val_loss: 1.0751 - val_accuracy: 0.5957\n",
      "Epoch 51/150\n",
      "225/225 [==============================] - 93s 413ms/step - loss: 1.0139 - accuracy: 0.6182 - val_loss: 1.0755 - val_accuracy: 0.5851\n",
      "Epoch 52/150\n",
      "225/225 [==============================] - 93s 413ms/step - loss: 1.0150 - accuracy: 0.6173 - val_loss: 1.1282 - val_accuracy: 0.5762\n",
      "Epoch 53/150\n",
      "225/225 [==============================] - 95s 423ms/step - loss: 1.0116 - accuracy: 0.6184 - val_loss: 1.1413 - val_accuracy: 0.5720\n",
      "Epoch 54/150\n",
      "225/225 [==============================] - 96s 425ms/step - loss: 1.0094 - accuracy: 0.6166 - val_loss: 1.0930 - val_accuracy: 0.5815\n",
      "Epoch 55/150\n",
      "225/225 [==============================] - 95s 421ms/step - loss: 1.0066 - accuracy: 0.6211 - val_loss: 1.0885 - val_accuracy: 0.5874\n",
      "Epoch 56/150\n",
      "225/225 [==============================] - 93s 414ms/step - loss: 1.0031 - accuracy: 0.6209 - val_loss: 1.0781 - val_accuracy: 0.5868\n"
     ]
    },
    {
     "name": "stdout",
     "output_type": "stream",
     "text": [
      "Epoch 57/150\n",
      "225/225 [==============================] - 92s 410ms/step - loss: 1.0062 - accuracy: 0.6190 - val_loss: 1.0801 - val_accuracy: 0.5960\n",
      "Epoch 58/150\n",
      "225/225 [==============================] - 92s 410ms/step - loss: 1.0090 - accuracy: 0.6177 - val_loss: 1.0933 - val_accuracy: 0.5868\n",
      "Epoch 59/150\n",
      "225/225 [==============================] - 92s 411ms/step - loss: 1.0039 - accuracy: 0.6226 - val_loss: 1.0598 - val_accuracy: 0.6007\n",
      "Epoch 60/150\n",
      "225/225 [==============================] - 93s 412ms/step - loss: 0.9997 - accuracy: 0.6231 - val_loss: 1.1054 - val_accuracy: 0.5848\n",
      "Epoch 61/150\n",
      "225/225 [==============================] - 93s 413ms/step - loss: 1.0001 - accuracy: 0.6230 - val_loss: 1.0728 - val_accuracy: 0.6021\n",
      "Epoch 62/150\n",
      "225/225 [==============================] - 93s 412ms/step - loss: 0.9945 - accuracy: 0.6253 - val_loss: 1.0812 - val_accuracy: 0.5871\n",
      "Epoch 63/150\n",
      "225/225 [==============================] - 94s 416ms/step - loss: 1.0002 - accuracy: 0.6203 - val_loss: 1.0747 - val_accuracy: 0.5979\n",
      "Epoch 64/150\n",
      "225/225 [==============================] - 93s 412ms/step - loss: 0.9922 - accuracy: 0.6238 - val_loss: 1.0841 - val_accuracy: 0.5854\n",
      "Epoch 65/150\n",
      "225/225 [==============================] - 93s 413ms/step - loss: 0.9919 - accuracy: 0.6246 - val_loss: 1.0613 - val_accuracy: 0.6049\n",
      "Epoch 66/150\n",
      "225/225 [==============================] - 94s 417ms/step - loss: 0.9920 - accuracy: 0.6276 - val_loss: 1.0533 - val_accuracy: 0.6021\n",
      "Epoch 67/150\n",
      "225/225 [==============================] - 95s 423ms/step - loss: 0.9963 - accuracy: 0.6229 - val_loss: 1.0794 - val_accuracy: 0.5929\n",
      "Epoch 68/150\n",
      "225/225 [==============================] - 92s 411ms/step - loss: 0.9915 - accuracy: 0.6259 - val_loss: 1.0774 - val_accuracy: 0.5899\n",
      "Epoch 69/150\n",
      "225/225 [==============================] - 94s 416ms/step - loss: 0.9885 - accuracy: 0.6288 - val_loss: 1.0694 - val_accuracy: 0.5918\n",
      "Epoch 70/150\n",
      "225/225 [==============================] - 93s 412ms/step - loss: 0.9806 - accuracy: 0.6312 - val_loss: 1.0874 - val_accuracy: 0.5913\n",
      "Epoch 71/150\n",
      "225/225 [==============================] - 93s 411ms/step - loss: 0.9858 - accuracy: 0.6295 - val_loss: 1.0884 - val_accuracy: 0.5907\n",
      "Epoch 72/150\n",
      "225/225 [==============================] - 92s 411ms/step - loss: 0.9841 - accuracy: 0.6298 - val_loss: 1.0681 - val_accuracy: 0.5915\n",
      "Epoch 73/150\n",
      "225/225 [==============================] - 94s 416ms/step - loss: 0.9836 - accuracy: 0.6297 - val_loss: 1.0821 - val_accuracy: 0.5960\n",
      "Epoch 74/150\n",
      "225/225 [==============================] - 93s 412ms/step - loss: 0.9827 - accuracy: 0.6316 - val_loss: 1.0747 - val_accuracy: 0.5893\n",
      "Epoch 75/150\n",
      "225/225 [==============================] - 107s 474ms/step - loss: 0.9816 - accuracy: 0.6305 - val_loss: 1.0820 - val_accuracy: 0.5952\n",
      "Epoch 76/150\n",
      "225/225 [==============================] - 94s 416ms/step - loss: 0.9794 - accuracy: 0.6339 - val_loss: 1.0692 - val_accuracy: 0.5943\n",
      "Epoch 77/150\n",
      "225/225 [==============================] - 93s 414ms/step - loss: 0.9781 - accuracy: 0.6287 - val_loss: 1.0733 - val_accuracy: 0.5957\n",
      "Epoch 78/150\n",
      "225/225 [==============================] - 92s 410ms/step - loss: 0.9740 - accuracy: 0.6351 - val_loss: 1.0830 - val_accuracy: 0.5943\n",
      "Epoch 79/150\n",
      "225/225 [==============================] - 93s 411ms/step - loss: 0.9755 - accuracy: 0.6301 - val_loss: 1.0925 - val_accuracy: 0.5929\n",
      "Epoch 80/150\n",
      "225/225 [==============================] - 94s 419ms/step - loss: 0.9755 - accuracy: 0.6296 - val_loss: 1.0719 - val_accuracy: 0.5938\n",
      "Epoch 81/150\n",
      "225/225 [==============================] - 94s 416ms/step - loss: 0.9716 - accuracy: 0.6338 - val_loss: 1.0664 - val_accuracy: 0.5949\n",
      "Epoch 82/150\n",
      "225/225 [==============================] - 93s 414ms/step - loss: 0.9694 - accuracy: 0.6335 - val_loss: 1.0696 - val_accuracy: 0.6041\n",
      "Epoch 83/150\n",
      "225/225 [==============================] - 94s 418ms/step - loss: 0.9676 - accuracy: 0.6384 - val_loss: 1.0669 - val_accuracy: 0.6043\n",
      "Epoch 84/150\n",
      "225/225 [==============================] - 93s 414ms/step - loss: 0.9708 - accuracy: 0.6380 - val_loss: 1.1033 - val_accuracy: 0.5860\n",
      "Epoch 85/150\n",
      "225/225 [==============================] - 93s 411ms/step - loss: 0.9664 - accuracy: 0.6358 - val_loss: 1.0655 - val_accuracy: 0.6121\n",
      "Epoch 86/150\n",
      "225/225 [==============================] - 94s 419ms/step - loss: 0.9664 - accuracy: 0.6352 - val_loss: 1.0622 - val_accuracy: 0.5971\n",
      "Epoch 87/150\n",
      "225/225 [==============================] - 93s 414ms/step - loss: 0.9603 - accuracy: 0.6370 - val_loss: 1.0824 - val_accuracy: 0.5952\n",
      "Epoch 88/150\n",
      "225/225 [==============================] - 93s 413ms/step - loss: 0.9648 - accuracy: 0.6401 - val_loss: 1.0657 - val_accuracy: 0.5971\n",
      "Epoch 89/150\n",
      "225/225 [==============================] - 94s 419ms/step - loss: 0.9665 - accuracy: 0.6378 - val_loss: 1.0724 - val_accuracy: 0.6018\n",
      "Epoch 90/150\n",
      "225/225 [==============================] - 92s 410ms/step - loss: 0.9658 - accuracy: 0.6387 - val_loss: 1.0579 - val_accuracy: 0.6027\n",
      "Epoch 91/150\n",
      "225/225 [==============================] - 93s 413ms/step - loss: 0.9618 - accuracy: 0.6411 - val_loss: 1.0801 - val_accuracy: 0.5974\n",
      "Epoch 92/150\n",
      "225/225 [==============================] - 93s 413ms/step - loss: 0.9627 - accuracy: 0.6388 - val_loss: 1.0676 - val_accuracy: 0.6002\n",
      "Epoch 93/150\n",
      "225/225 [==============================] - 94s 417ms/step - loss: 0.9625 - accuracy: 0.6403 - val_loss: 1.0666 - val_accuracy: 0.5991\n",
      "Epoch 94/150\n",
      "225/225 [==============================] - 95s 423ms/step - loss: 0.9624 - accuracy: 0.6382 - val_loss: 1.0512 - val_accuracy: 0.6069\n",
      "Epoch 95/150\n",
      "225/225 [==============================] - 93s 411ms/step - loss: 0.9572 - accuracy: 0.6444 - val_loss: 1.0508 - val_accuracy: 0.6063\n",
      "Epoch 96/150\n",
      "225/225 [==============================] - 95s 421ms/step - loss: 0.9568 - accuracy: 0.6412 - val_loss: 1.0342 - val_accuracy: 0.6113\n",
      "Epoch 97/150\n",
      "225/225 [==============================] - 93s 414ms/step - loss: 0.9588 - accuracy: 0.6417 - val_loss: 1.0492 - val_accuracy: 0.6010\n",
      "Epoch 98/150\n",
      "225/225 [==============================] - 93s 413ms/step - loss: 0.9583 - accuracy: 0.6442 - val_loss: 1.0664 - val_accuracy: 0.6018\n",
      "Epoch 99/150\n",
      "225/225 [==============================] - 93s 414ms/step - loss: 0.9584 - accuracy: 0.6434 - val_loss: 1.0466 - val_accuracy: 0.6080\n",
      "Epoch 100/150\n",
      "225/225 [==============================] - 93s 413ms/step - loss: 0.9565 - accuracy: 0.6411 - val_loss: 1.0516 - val_accuracy: 0.6069\n",
      "Epoch 101/150\n",
      "225/225 [==============================] - 93s 415ms/step - loss: 0.9553 - accuracy: 0.6435 - val_loss: 1.0864 - val_accuracy: 0.5991\n",
      "Epoch 102/150\n",
      "225/225 [==============================] - 94s 416ms/step - loss: 0.9582 - accuracy: 0.6399 - val_loss: 1.0645 - val_accuracy: 0.6030\n",
      "Epoch 103/150\n",
      "225/225 [==============================] - 95s 422ms/step - loss: 0.9499 - accuracy: 0.6462 - val_loss: 1.0322 - val_accuracy: 0.6160\n",
      "Epoch 104/150\n",
      "225/225 [==============================] - 93s 412ms/step - loss: 0.9503 - accuracy: 0.6438 - val_loss: 1.0536 - val_accuracy: 0.6121\n",
      "Epoch 105/150\n",
      "225/225 [==============================] - 95s 421ms/step - loss: 0.9482 - accuracy: 0.6444 - val_loss: 1.0711 - val_accuracy: 0.6074\n",
      "Epoch 106/150\n",
      "225/225 [==============================] - 97s 430ms/step - loss: 0.9571 - accuracy: 0.6396 - val_loss: 1.0480 - val_accuracy: 0.6130\n",
      "Epoch 107/150\n",
      "225/225 [==============================] - 97s 432ms/step - loss: 0.9523 - accuracy: 0.6448 - val_loss: 1.0421 - val_accuracy: 0.6105\n",
      "Epoch 108/150\n",
      "225/225 [==============================] - 95s 424ms/step - loss: 0.9470 - accuracy: 0.6483 - val_loss: 1.0411 - val_accuracy: 0.6135\n",
      "Epoch 109/150\n",
      "225/225 [==============================] - 96s 427ms/step - loss: 0.9459 - accuracy: 0.6449 - val_loss: 1.0370 - val_accuracy: 0.6163\n",
      "Epoch 110/150\n",
      "225/225 [==============================] - 96s 424ms/step - loss: 0.9437 - accuracy: 0.6492 - val_loss: 1.0676 - val_accuracy: 0.6066\n",
      "Epoch 111/150\n",
      "225/225 [==============================] - 97s 431ms/step - loss: 0.9485 - accuracy: 0.6454 - val_loss: 1.0559 - val_accuracy: 0.6007\n",
      "Epoch 112/150\n",
      "225/225 [==============================] - 96s 428ms/step - loss: 0.9441 - accuracy: 0.6462 - val_loss: 1.0500 - val_accuracy: 0.6102\n",
      "Epoch 113/150\n",
      "225/225 [==============================] - 97s 431ms/step - loss: 0.9424 - accuracy: 0.6470 - val_loss: 1.0457 - val_accuracy: 0.6177\n",
      "Epoch 114/150\n",
      "225/225 [==============================] - 97s 431ms/step - loss: 0.9431 - accuracy: 0.6463 - val_loss: 1.0430 - val_accuracy: 0.6138\n",
      "Epoch 115/150\n",
      "225/225 [==============================] - 95s 423ms/step - loss: 0.9364 - accuracy: 0.6477 - val_loss: 1.0785 - val_accuracy: 0.6010\n",
      "Epoch 116/150\n",
      "225/225 [==============================] - 96s 425ms/step - loss: 0.9434 - accuracy: 0.6465 - val_loss: 1.0584 - val_accuracy: 0.6060\n",
      "Epoch 117/150\n",
      "225/225 [==============================] - 94s 417ms/step - loss: 0.9465 - accuracy: 0.6453 - val_loss: 1.1262 - val_accuracy: 0.5879\n",
      "Epoch 118/150\n",
      "225/225 [==============================] - 94s 417ms/step - loss: 0.9455 - accuracy: 0.6493 - val_loss: 1.0655 - val_accuracy: 0.5979\n",
      "Epoch 119/150\n",
      "225/225 [==============================] - 93s 411ms/step - loss: 0.9367 - accuracy: 0.6507 - val_loss: 1.0408 - val_accuracy: 0.6130\n",
      "Epoch 120/150\n",
      "225/225 [==============================] - 92s 410ms/step - loss: 0.9372 - accuracy: 0.6489 - val_loss: 1.0648 - val_accuracy: 0.6043\n",
      "Epoch 121/150\n",
      "225/225 [==============================] - 92s 410ms/step - loss: 0.9345 - accuracy: 0.6519 - val_loss: 1.0301 - val_accuracy: 0.6197\n",
      "Epoch 122/150\n",
      "225/225 [==============================] - 94s 416ms/step - loss: 0.9382 - accuracy: 0.6498 - val_loss: 1.0567 - val_accuracy: 0.6080\n",
      "Epoch 123/150\n",
      "225/225 [==============================] - 93s 411ms/step - loss: 0.9369 - accuracy: 0.6519 - val_loss: 1.0629 - val_accuracy: 0.6043\n",
      "Epoch 124/150\n",
      "225/225 [==============================] - 94s 417ms/step - loss: 0.9353 - accuracy: 0.6523 - val_loss: 1.0538 - val_accuracy: 0.6108\n",
      "Epoch 125/150\n",
      "225/225 [==============================] - 93s 414ms/step - loss: 0.9298 - accuracy: 0.6530 - val_loss: 1.0902 - val_accuracy: 0.5985\n",
      "Epoch 126/150\n",
      "225/225 [==============================] - 93s 413ms/step - loss: 0.9332 - accuracy: 0.6511 - val_loss: 1.0477 - val_accuracy: 0.6155\n",
      "Epoch 127/150\n",
      "225/225 [==============================] - 92s 411ms/step - loss: 0.9342 - accuracy: 0.6501 - val_loss: 1.0481 - val_accuracy: 0.6082\n",
      "Epoch 128/150\n",
      "225/225 [==============================] - 96s 425ms/step - loss: 0.9362 - accuracy: 0.6528 - val_loss: 1.0371 - val_accuracy: 0.6108\n",
      "Epoch 129/150\n",
      "225/225 [==============================] - 96s 426ms/step - loss: 0.9349 - accuracy: 0.6512 - val_loss: 1.1094 - val_accuracy: 0.5971\n",
      "Epoch 130/150\n",
      "225/225 [==============================] - 94s 417ms/step - loss: 0.9372 - accuracy: 0.6500 - val_loss: 1.0618 - val_accuracy: 0.6043\n",
      "Epoch 131/150\n",
      "225/225 [==============================] - 94s 416ms/step - loss: 0.9336 - accuracy: 0.6524 - val_loss: 1.0694 - val_accuracy: 0.6069\n",
      "Epoch 132/150\n",
      "225/225 [==============================] - 94s 417ms/step - loss: 0.9278 - accuracy: 0.6539 - val_loss: 1.0535 - val_accuracy: 0.6016\n",
      "Epoch 133/150\n",
      "225/225 [==============================] - 93s 412ms/step - loss: 0.9312 - accuracy: 0.6524 - val_loss: 1.0607 - val_accuracy: 0.6091\n",
      "Epoch 134/150\n",
      "225/225 [==============================] - 93s 413ms/step - loss: 0.9251 - accuracy: 0.6537 - val_loss: 1.0588 - val_accuracy: 0.6135\n",
      "Epoch 135/150\n",
      "225/225 [==============================] - 93s 414ms/step - loss: 0.9313 - accuracy: 0.6522 - val_loss: 1.0720 - val_accuracy: 0.6007\n",
      "Epoch 136/150\n",
      "225/225 [==============================] - 92s 409ms/step - loss: 0.9302 - accuracy: 0.6509 - val_loss: 1.0398 - val_accuracy: 0.6239\n",
      "Epoch 137/150\n",
      "225/225 [==============================] - 93s 415ms/step - loss: 0.9289 - accuracy: 0.6513 - val_loss: 1.0476 - val_accuracy: 0.6144\n",
      "Epoch 138/150\n",
      "225/225 [==============================] - 93s 413ms/step - loss: 0.9291 - accuracy: 0.6516 - val_loss: 1.0566 - val_accuracy: 0.6060\n",
      "Epoch 139/150\n",
      "225/225 [==============================] - 92s 410ms/step - loss: 0.9271 - accuracy: 0.6538 - val_loss: 1.0633 - val_accuracy: 0.6071\n",
      "Epoch 140/150\n",
      "225/225 [==============================] - 93s 412ms/step - loss: 0.9285 - accuracy: 0.6541 - val_loss: 1.0723 - val_accuracy: 0.6002\n",
      "Epoch 141/150\n",
      "225/225 [==============================] - 93s 413ms/step - loss: 0.9262 - accuracy: 0.6554 - val_loss: 1.0723 - val_accuracy: 0.6052\n",
      "Epoch 142/150\n",
      "225/225 [==============================] - 93s 414ms/step - loss: 0.9248 - accuracy: 0.6568 - val_loss: 1.0484 - val_accuracy: 0.6116\n",
      "Epoch 143/150\n",
      "225/225 [==============================] - 96s 426ms/step - loss: 0.9249 - accuracy: 0.6560 - val_loss: 1.0696 - val_accuracy: 0.6149\n",
      "Epoch 144/150\n",
      "225/225 [==============================] - 94s 416ms/step - loss: 0.9285 - accuracy: 0.6540 - val_loss: 1.0478 - val_accuracy: 0.6160\n",
      "Epoch 145/150\n",
      "225/225 [==============================] - 92s 411ms/step - loss: 0.9245 - accuracy: 0.6527 - val_loss: 1.0540 - val_accuracy: 0.6138\n",
      "Epoch 146/150\n",
      "225/225 [==============================] - 96s 428ms/step - loss: 0.9213 - accuracy: 0.6571 - val_loss: 1.0760 - val_accuracy: 0.5985\n",
      "Epoch 147/150\n",
      "225/225 [==============================] - 101s 449ms/step - loss: 0.9164 - accuracy: 0.6554 - val_loss: 1.0451 - val_accuracy: 0.6147\n",
      "Epoch 148/150\n",
      "225/225 [==============================] - 98s 434ms/step - loss: 0.9205 - accuracy: 0.6597 - val_loss: 1.0927 - val_accuracy: 0.6043\n",
      "Epoch 149/150\n",
      "225/225 [==============================] - 118s 523ms/step - loss: 0.9221 - accuracy: 0.6547 - val_loss: 1.0458 - val_accuracy: 0.6233\n",
      "Epoch 150/150\n",
      "225/225 [==============================] - 114s 508ms/step - loss: 0.9225 - accuracy: 0.6544 - val_loss: 1.0478 - val_accuracy: 0.6152\n"
     ]
    }
   ],
   "source": [
    "datagen = ImageDataGenerator(\n",
    "        zoom_range=0.2,          # randomly zoom into images\n",
    "        rotation_range=10,       # randomly rotate images in the range (degrees, 0 to 180)\n",
    "        width_shift_range=0.1,   # randomly shift images horizontally (fraction of total width)\n",
    "        height_shift_range=0.1,  # randomly shift images vertically (fraction of total height)\n",
    "        horizontal_flip=True,    # randomly flip images\n",
    "        vertical_flip=False)     # randomly flip images\n",
    "\n",
    "history = model.fit_generator(\n",
    "    datagen.flow(X_train, y_train, batch_size=batch_size),\n",
    "    steps_per_epoch=int(np.ceil(X_train.shape[0] / float(batch_size))),\n",
    "    epochs = epochs, \n",
    "    validation_data=(X_test, y_test)\n",
    ")"
   ]
  },
  {
   "cell_type": "code",
   "execution_count": 44,
   "id": "3bcbf189",
   "metadata": {},
   "outputs": [
    {
     "data": {
      "text/plain": [
       "Text(0.5, 1.0, 'Accuracy Curves')"
      ]
     },
     "execution_count": 44,
     "metadata": {},
     "output_type": "execute_result"
    },
    {
     "data": {
      "image/png": "[encoded data removed]",
      "text/plain": [
       "<Figure size 576x432 with 1 Axes>"
      ]
     },
     "metadata": {
      "needs_background": "light"
     },
     "output_type": "display_data"
    },
    {
     "data": {
      "image/png": "[encoded data removed]",
      "text/plain": [
       "<Figure size 576x432 with 1 Axes>"
      ]
     },
     "metadata": {
      "needs_background": "light"
     },
     "output_type": "display_data"
    }
   ],
   "source": [
    "#Plotting accuracy and loss curves for 2nd model\n",
    "\n",
    "# Loss Curves\n",
    "plt.figure(figsize=[8,6])\n",
    "plt.plot(history.history['loss'],'r',linewidth=2.0)\n",
    "plt.plot(history.history['val_loss'],'b',linewidth=2.0)\n",
    "plt.legend(['Training loss', 'Validation Loss'],fontsize=18)\n",
    "plt.xlabel('Epochs ',fontsize=16)\n",
    "plt.ylabel('Loss',fontsize=16)\n",
    "plt.title('Loss Curves',fontsize=16)\n",
    " \n",
    "# Accuracy Curves\n",
    "plt.figure(figsize=[8,6])\n",
    "plt.plot(history.history['accuracy'],'r',linewidth=2.0)\n",
    "plt.plot(history.history['val_accuracy'],'b',linewidth=2.0)\n",
    "plt.legend(['Training Accuracy', 'Validation Accuracy'],fontsize=18)\n",
    "plt.xlabel('Epochs ',fontsize=16)\n",
    "plt.ylabel('Accuracy',fontsize=16)\n",
    "plt.title('Accuracy Curves',fontsize=16)"
   ]
  },
  {
   "cell_type": "code",
   "execution_count": 45,
   "id": "34e26d6a",
   "metadata": {},
   "outputs": [
    {
     "name": "stdout",
     "output_type": "stream",
     "text": [
      "113/113 [==============================] - 4s 34ms/step - loss: 1.0478 - accuracy: 0.6152\n",
      "Test Loss is:  1.0478239059448242\n",
      "Test Accuracy is:  0.61521315574646\n"
     ]
    }
   ],
   "source": [
    "test_loss,test_acc=model.evaluate(X_test,y_test)\n",
    "print('Test Loss is: ',test_loss)\n",
    "print('Test Accuracy is: ',test_acc)"
   ]
  },
  {
   "cell_type": "code",
   "execution_count": 47,
   "id": "b712f058",
   "metadata": {},
   "outputs": [
    {
     "name": "stdout",
     "output_type": "stream",
     "text": [
      "898/898 [==============================] - 34s 38ms/step - loss: 0.8655 - accuracy: 0.6784\n",
      "Train Loss is:  0.8654764890670776\n",
      "Train Accuracy is:  0.6783586740493774\n"
     ]
    }
   ],
   "source": [
    "#loss and accuracy for training dataset\n",
    "train_loss,train_acc=model.evaluate(X_train,y_train)\n",
    "print('Train Loss is: ',train_loss)\n",
    "print('Train Accuracy is: ',train_acc)"
   ]
  },
  {
   "cell_type": "code",
   "execution_count": 48,
   "id": "b69fa2ef",
   "metadata": {},
   "outputs": [
    {
     "name": "stdout",
     "output_type": "stream",
     "text": [
      "Model: \"model_2\"\n",
      "__________________________________________________________________________________________________\n",
      " Layer (type)                   Output Shape         Param #     Connected to                     \n",
      "==================================================================================================\n",
      " input_3 (InputLayer)           [(None, 48, 48, 1)]  0           []                               \n",
      "                                                                                                  \n",
      " conv2d_26 (Conv2D)             (None, 48, 48, 10)   100         ['input_3[0][0]']                \n",
      "                                                                                                  \n",
      " conv2d_27 (Conv2D)             (None, 48, 48, 20)   1820        ['conv2d_26[0][0]']              \n",
      "                                                                                                  \n",
      " max_pooling2d_4 (MaxPooling2D)  (None, 16, 16, 20)  0           ['conv2d_27[0][0]']              \n",
      "                                                                                                  \n",
      " batch_normalization_3 (BatchNo  (None, 16, 16, 20)  80          ['max_pooling2d_4[0][0]']        \n",
      " rmalization)                                                                                     \n",
      "                                                                                                  \n",
      " conv2d_28 (Conv2D)             (None, 16, 16, 30)   5430        ['batch_normalization_3[0][0]']  \n",
      "                                                                                                  \n",
      " conv2d_29 (Conv2D)             (None, 16, 16, 40)   10840       ['conv2d_28[0][0]']              \n",
      "                                                                                                  \n",
      " max_pooling2d_5 (MaxPooling2D)  (None, 5, 5, 40)    0           ['conv2d_29[0][0]']              \n",
      "                                                                                                  \n",
      " batch_normalization_4 (BatchNo  (None, 5, 5, 40)    160         ['max_pooling2d_5[0][0]']        \n",
      " rmalization)                                                                                     \n",
      "                                                                                                  \n",
      " conv2d_30 (Conv2D)             (None, 5, 5, 50)     18050       ['batch_normalization_4[0][0]']  \n",
      "                                                                                                  \n",
      " conv2d_31 (Conv2D)             (None, 5, 5, 60)     27060       ['conv2d_30[0][0]']              \n",
      "                                                                                                  \n",
      " max_pooling2d_6 (MaxPooling2D)  (None, 1, 1, 60)    0           ['conv2d_31[0][0]']              \n",
      "                                                                                                  \n",
      " batch_normalization_5 (BatchNo  (None, 1, 1, 60)    240         ['max_pooling2d_6[0][0]']        \n",
      " rmalization)                                                                                     \n",
      "                                                                                                  \n",
      " conv2d_33 (Conv2D)             (None, 1, 1, 4)      2164        ['batch_normalization_5[0][0]']  \n",
      "                                                                                                  \n",
      " conv2d_35 (Conv2D)             (None, 1, 1, 4)      6004        ['batch_normalization_5[0][0]']  \n",
      "                                                                                                  \n",
      " conv2d_32 (Conv2D)             (None, 1, 1, 1)      61          ['batch_normalization_5[0][0]']  \n",
      "                                                                                                  \n",
      " conv2d_34 (Conv2D)             (None, 1, 1, 1)      37          ['conv2d_33[0][0]']              \n",
      "                                                                                                  \n",
      " conv2d_36 (Conv2D)             (None, 1, 1, 1)      37          ['conv2d_35[0][0]']              \n",
      "                                                                                                  \n",
      " concatenate_4 (Concatenate)    (None, 3, 1, 1)      0           ['conv2d_32[0][0]',              \n",
      "                                                                  'conv2d_34[0][0]',              \n",
      "                                                                  'conv2d_36[0][0]']              \n",
      "                                                                                                  \n",
      " conv2d_38 (Conv2D)             (None, 3, 1, 4)      40          ['concatenate_4[0][0]']          \n",
      "                                                                                                  \n",
      " conv2d_40 (Conv2D)             (None, 3, 1, 4)      104         ['concatenate_4[0][0]']          \n",
      "                                                                                                  \n",
      " conv2d_37 (Conv2D)             (None, 3, 1, 1)      2           ['concatenate_4[0][0]']          \n",
      "                                                                                                  \n",
      " conv2d_39 (Conv2D)             (None, 3, 1, 1)      37          ['conv2d_38[0][0]']              \n",
      "                                                                                                  \n",
      " conv2d_41 (Conv2D)             (None, 3, 1, 1)      37          ['conv2d_40[0][0]']              \n",
      "                                                                                                  \n",
      " concatenate_5 (Concatenate)    (None, 9, 1, 1)      0           ['conv2d_37[0][0]',              \n",
      "                                                                  'conv2d_39[0][0]',              \n",
      "                                                                  'conv2d_41[0][0]']              \n",
      "                                                                                                  \n",
      " conv2d_43 (Conv2D)             (None, 9, 1, 4)      40          ['concatenate_5[0][0]']          \n",
      "                                                                                                  \n",
      " conv2d_45 (Conv2D)             (None, 9, 1, 4)      104         ['concatenate_5[0][0]']          \n",
      "                                                                                                  \n",
      " conv2d_42 (Conv2D)             (None, 9, 1, 1)      2           ['concatenate_5[0][0]']          \n",
      "                                                                                                  \n",
      " conv2d_44 (Conv2D)             (None, 9, 1, 1)      37          ['conv2d_43[0][0]']              \n",
      "                                                                                                  \n",
      " conv2d_46 (Conv2D)             (None, 9, 1, 1)      37          ['conv2d_45[0][0]']              \n",
      "                                                                                                  \n",
      " concatenate_6 (Concatenate)    (None, 27, 1, 1)     0           ['conv2d_42[0][0]',              \n",
      "                                                                  'conv2d_44[0][0]',              \n",
      "                                                                  'conv2d_46[0][0]']              \n",
      "                                                                                                  \n",
      " flatten_2 (Flatten)            (None, 27)           0           ['concatenate_6[0][0]']          \n",
      "                                                                                                  \n",
      " dense_7 (Dense)                (None, 25)           700         ['flatten_2[0][0]']              \n",
      "                                                                                                  \n",
      " dense_8 (Dense)                (None, 15)           390         ['dense_7[0][0]']                \n",
      "                                                                                                  \n",
      " dense_9 (Dense)                (None, 7)            112         ['dense_8[0][0]']                \n",
      "                                                                                                  \n",
      "==================================================================================================\n"
     ]
    },
    {
     "name": "stdout",
     "output_type": "stream",
     "text": [
      "Total params: 73,725\n",
      "Trainable params: 73,485\n",
      "Non-trainable params: 240\n",
      "__________________________________________________________________________________________________\n"
     ]
    }
   ],
   "source": [
    "model.summary()"
   ]
  },
  {
   "cell_type": "code",
   "execution_count": 49,
   "id": "35c9296d",
   "metadata": {},
   "outputs": [
    {
     "name": "stdout",
     "output_type": "stream",
     "text": [
      "dict_keys(['loss', 'accuracy', 'val_loss', 'val_accuracy'])\n"
     ]
    }
   ],
   "source": [
    "print(history.history.keys())"
   ]
  },
  {
   "cell_type": "code",
   "execution_count": 50,
   "id": "dd14cd12",
   "metadata": {},
   "outputs": [],
   "source": [
    "model.save('inception_model.h5')\n",
    "#loaded_model=load_model('inception_model.h5')"
   ]
  },
  {
   "cell_type": "code",
   "execution_count": 53,
   "id": "0269ba01",
   "metadata": {},
   "outputs": [
    {
     "data": {
      "text/plain": [
       "18768"
      ]
     },
     "execution_count": 53,
     "metadata": {},
     "output_type": "execute_result"
    }
   ],
   "source": [
    "#save the model weights\n",
    "json_string = model.to_json()\n",
    "model.save_weights('savedModels/model_inception.h5')\n",
    "open('savedModels/model_inception.json', 'w').write(json_string)\n",
    "#model.save_weights(local_path + 'savedmodels/Emotion_Face_Detection_Model.h5')"
   ]
  },
  {
   "cell_type": "code",
   "execution_count": null,
   "id": "c082ffcf",
   "metadata": {},
   "outputs": [],
   "source": []
  }
 ],
 "metadata": {
  "kernelspec": {
   "display_name": "Python 3 (ipykernel)",
   "language": "python",
   "name": "python3"
  },
  "language_info": {
   "codemirror_mode": {
    "name": "ipython",
    "version": 3
   },
   "file_extension": ".py",
   "mimetype": "text/x-python",
   "name": "python",
   "nbconvert_exporter": "python",
   "pygments_lexer": "ipython3",
   "version": "3.9.12"
  }
 },
 "nbformat": 4,
 "nbformat_minor": 5
}
